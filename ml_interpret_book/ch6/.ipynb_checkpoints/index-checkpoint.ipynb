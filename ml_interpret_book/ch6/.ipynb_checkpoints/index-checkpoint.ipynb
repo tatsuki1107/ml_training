{
 "cells": [
  {
   "cell_type": "markdown",
   "id": "a33db5f3-1bb8-426e-bd6f-9b89a8d84a90",
   "metadata": {},
   "source": [
    "## 6 予測の理由を考える"
   ]
  },
  {
   "cell_type": "code",
   "execution_count": 5,
   "id": "ecf77994-6afa-4b9f-b2ec-d07e8adc86c0",
   "metadata": {},
   "outputs": [],
   "source": [
    "import warnings; warnings.simplefilter('ignore')\n",
    "import sys; sys.path.append('..')\n",
    "\n",
    "import numpy as np\n",
    "import pandas as pd; pd.options.display.float_format = \"{:.2f}\".format\n",
    "import matplotlib.pyplot as plt\n",
    "import japanize_matplotlib\n",
    "np.random.seed(42)"
   ]
  },
  {
   "cell_type": "code",
   "execution_count": 6,
   "id": "8bec1221-0720-48c8-afa4-d32921352637",
   "metadata": {},
   "outputs": [],
   "source": [
    "from util import generate_simulation_data\n",
    "\n",
    "X_train, X_test, y_train, y_test = generate_simulation_data()"
   ]
  },
  {
   "cell_type": "code",
   "execution_count": 7,
   "id": "1c654d92-0a13-46e8-b013-56cacb0ab4fc",
   "metadata": {},
   "outputs": [
    {
     "data": {
      "text/html": [
       "<div>\n",
       "<style scoped>\n",
       "    .dataframe tbody tr th:only-of-type {\n",
       "        vertical-align: middle;\n",
       "    }\n",
       "\n",
       "    .dataframe tbody tr th {\n",
       "        vertical-align: top;\n",
       "    }\n",
       "\n",
       "    .dataframe thead th {\n",
       "        text-align: right;\n",
       "    }\n",
       "</style>\n",
       "<table border=\"1\" class=\"dataframe\">\n",
       "  <thead>\n",
       "    <tr style=\"text-align: right;\">\n",
       "      <th></th>\n",
       "      <th>RMSE</th>\n",
       "      <th>R2</th>\n",
       "    </tr>\n",
       "  </thead>\n",
       "  <tbody>\n",
       "    <tr>\n",
       "      <th>0</th>\n",
       "      <td>0.11</td>\n",
       "      <td>0.99</td>\n",
       "    </tr>\n",
       "  </tbody>\n",
       "</table>\n",
       "</div>"
      ],
      "text/plain": [
       "   RMSE   R2\n",
       "0  0.11 0.99"
      ]
     },
     "execution_count": 7,
     "metadata": {},
     "output_type": "execute_result"
    }
   ],
   "source": [
    "from sklearn.ensemble import RandomForestRegressor\n",
    "from ch4.util import regression_metrics\n",
    "\n",
    "rf = RandomForestRegressor(n_estimators=500, n_jobs=-1, random_state=42)\n",
    "rf.fit(X_train, y_train)\n",
    "\n",
    "regression_metrics(rf, X_test, y_test)"
   ]
  },
  {
   "cell_type": "code",
   "execution_count": 8,
   "id": "7584027a-086d-46e5-93bf-f33385ecc2e7",
   "metadata": {},
   "outputs": [
    {
     "data": {
      "text/html": [
       "<div>\n",
       "<style scoped>\n",
       "    .dataframe tbody tr th:only-of-type {\n",
       "        vertical-align: middle;\n",
       "    }\n",
       "\n",
       "    .dataframe tbody tr th {\n",
       "        vertical-align: top;\n",
       "    }\n",
       "\n",
       "    .dataframe thead th {\n",
       "        text-align: right;\n",
       "    }\n",
       "</style>\n",
       "<table border=\"1\" class=\"dataframe\">\n",
       "  <thead>\n",
       "    <tr style=\"text-align: right;\">\n",
       "      <th></th>\n",
       "      <th>X0</th>\n",
       "      <th>X1</th>\n",
       "      <th>y_pred</th>\n",
       "      <th>y_pred_baseline</th>\n",
       "    </tr>\n",
       "  </thead>\n",
       "  <tbody>\n",
       "    <tr>\n",
       "      <th>0</th>\n",
       "      <td>1.08</td>\n",
       "      <td>-0.04</td>\n",
       "      <td>0.08</td>\n",
       "      <td>0.05</td>\n",
       "    </tr>\n",
       "    <tr>\n",
       "      <th>1</th>\n",
       "      <td>-0.78</td>\n",
       "      <td>0.65</td>\n",
       "      <td>0.68</td>\n",
       "      <td>0.05</td>\n",
       "    </tr>\n",
       "    <tr>\n",
       "      <th>2</th>\n",
       "      <td>0.72</td>\n",
       "      <td>-0.37</td>\n",
       "      <td>-0.44</td>\n",
       "      <td>0.05</td>\n",
       "    </tr>\n",
       "    <tr>\n",
       "      <th>3</th>\n",
       "      <td>0.06</td>\n",
       "      <td>0.53</td>\n",
       "      <td>0.45</td>\n",
       "      <td>0.05</td>\n",
       "    </tr>\n",
       "    <tr>\n",
       "      <th>4</th>\n",
       "      <td>2.30</td>\n",
       "      <td>-0.36</td>\n",
       "      <td>-0.36</td>\n",
       "      <td>0.05</td>\n",
       "    </tr>\n",
       "  </tbody>\n",
       "</table>\n",
       "</div>"
      ],
      "text/plain": [
       "     X0    X1  y_pred  y_pred_baseline\n",
       "0  1.08 -0.04    0.08             0.05\n",
       "1 -0.78  0.65    0.68             0.05\n",
       "2  0.72 -0.37   -0.44             0.05\n",
       "3  0.06  0.53    0.45             0.05\n",
       "4  2.30 -0.36   -0.36             0.05"
      ]
     },
     "execution_count": 8,
     "metadata": {},
     "output_type": "execute_result"
    }
   ],
   "source": [
    "df = pd.DataFrame(data=X_test, columns=[\"X0\",\"X1\"])\n",
    "df[\"y_pred\"] = rf.predict(X_test)\n",
    "df[\"y_pred_baseline\"] = rf.predict(X_test).mean()\n",
    "df.head()"
   ]
  },
  {
   "cell_type": "markdown",
   "id": "c64d14c0-7bff-459a-b387-014e016ebaa4",
   "metadata": {},
   "source": [
    "## インスタンス1のSHAPを求める"
   ]
  },
  {
   "cell_type": "code",
   "execution_count": 17,
   "id": "2e674c46-f012-44ee-8cd2-746500f443e9",
   "metadata": {},
   "outputs": [
    {
     "name": "stdout",
     "output_type": "stream",
     "text": [
      "CASE1: X0もX1も分かっていないときの予測値 ->  0.05\n",
      "CASE2: X0のみが分かっているときの予測値 ->  0.05\n",
      "CASE3: X1のみが分かっているときの予測値 ->  0.65\n",
      "CASE4: X1もX2も分かっているときの予測値 ->  0.68\n"
     ]
    }
   ],
   "source": [
    "x = X_test[1]\n",
    "\n",
    "# X0もX1もわからないときの予測値（すなわち、予測の平均）\n",
    "E_baseline = rf.predict(X_test).mean()\n",
    "\n",
    "# X0だけわかっているとき（すなわち、PDのように周辺化する。）\n",
    "X0 = X_test.copy()\n",
    "X0[:,0] = x[0]\n",
    "E0 = rf.predict(X0).mean()\n",
    "\n",
    "# X1だけがわかっているとき\n",
    "X1 = X_test.copy()\n",
    "X1[:,1] = x[1]\n",
    "E1 = rf.predict(X1).mean()\n",
    "\n",
    "# X0とX1の両方がわかるとき\n",
    "E_full = rf.predict(x[np.newaxis, :])[0]\n",
    "\n",
    "# 結果を出力\n",
    "print(f\"CASE1: X0もX1も分かっていないときの予測値 -> {E_baseline: .2f}\")\n",
    "print(f\"CASE2: X0のみが分かっているときの予測値 -> {E0: .2f}\")\n",
    "print(f\"CASE3: X1のみが分かっているときの予測値 -> {E1: .2f}\")\n",
    "print(f\"CASE4: X0もX1も分かっているときの予測値 -> {E_full: .2f}\")\n"
   ]
  },
  {
   "cell_type": "code",
   "execution_count": null,
   "id": "1794a2ee-3c39-456f-a63d-9b803bf0a65b",
   "metadata": {},
   "outputs": [],
   "source": [
    "SHAP0 = ((E0 - E_baseline) + (E_full - E1)) / 2\n",
    "SHAP1 = ((E1 - E_baseline) + (E_full - E0)) / 2\n",
    "\n"
   ]
  }
 ],
 "metadata": {
  "kernelspec": {
   "display_name": "Python 3 (ipykernel)",
   "language": "python",
   "name": "python3"
  },
  "language_info": {
   "codemirror_mode": {
    "name": "ipython",
    "version": 3
   },
   "file_extension": ".py",
   "mimetype": "text/x-python",
   "name": "python",
   "nbconvert_exporter": "python",
   "pygments_lexer": "ipython3",
   "version": "3.8.16"
  }
 },
 "nbformat": 4,
 "nbformat_minor": 5
}
