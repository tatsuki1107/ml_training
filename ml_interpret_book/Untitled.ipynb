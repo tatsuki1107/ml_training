{
 "cells": [
  {
   "cell_type": "code",
   "execution_count": 6,
   "id": "a38fb560-b89c-4673-9d37-54c21accb1cc",
   "metadata": {},
   "outputs": [
    {
     "name": "stdout",
     "output_type": "stream",
     "text": [
      "--start--\n",
      "Hello Decorator!\n",
      "--end--\n"
     ]
    }
   ],
   "source": [
    "def deco(func):\n",
    "    import os\n",
    "    def wrapper(*args, **kwargs):\n",
    "        res = \"--start--\"+ os.linesep\n",
    "        res += func(*args, **kwargs) + \"!\" + os.linesep\n",
    "        res += \"--end--\"\n",
    "        return res\n",
    "    return wrapper\n",
    "\n",
    "@deco\n",
    "def test():\n",
    "    return(\"Hello Decorator\")\n",
    "\n",
    "print(test())"
   ]
  },
  {
   "cell_type": "code",
   "execution_count": 3,
   "id": "9d0b7c62-e578-4a3f-9e19-5a5712a73d25",
   "metadata": {},
   "outputs": [
    {
     "data": {
      "text/plain": [
       "<function __main__.deco.<locals>.wrapper(*args, **kwargs)>"
      ]
     },
     "execution_count": 3,
     "metadata": {},
     "output_type": "execute_result"
    }
   ],
   "source": [
    "test"
   ]
  },
  {
   "cell_type": "code",
   "execution_count": null,
   "id": "79c7fac0-91c9-4218-b35f-c6f451112052",
   "metadata": {},
   "outputs": [],
   "source": []
  }
 ],
 "metadata": {
  "kernelspec": {
   "display_name": "Python 3 (ipykernel)",
   "language": "python",
   "name": "python3"
  },
  "language_info": {
   "codemirror_mode": {
    "name": "ipython",
    "version": 3
   },
   "file_extension": ".py",
   "mimetype": "text/x-python",
   "name": "python",
   "nbconvert_exporter": "python",
   "pygments_lexer": "ipython3",
   "version": "3.8.16"
  }
 },
 "nbformat": 4,
 "nbformat_minor": 5
}
