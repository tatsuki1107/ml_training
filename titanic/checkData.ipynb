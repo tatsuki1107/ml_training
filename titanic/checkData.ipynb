{
 "cells": [
  {
   "cell_type": "code",
   "execution_count": 1,
   "metadata": {},
   "outputs": [],
   "source": [
    "import pandas as pd\n",
    "from matplotlib import pyplot as plt\n",
    "%matplotlib inline\n",
    "import seaborn as sns\n",
    "\n",
    "df_train = pd.read_csv('../data/train.csv')\n",
    "df_test = pd.read_csv('../data/test.csv')\n",
    "target = \"Survived\"\n",
    "random_seed = 1234"
   ]
  },
  {
   "cell_type": "code",
   "execution_count": 2,
   "metadata": {},
   "outputs": [
    {
     "name": "stdout",
     "output_type": "stream",
     "text": [
      "df_trainの総データ数: 891\n",
      "df_testの総データ数: 418\n"
     ]
    }
   ],
   "source": [
    "print(f\"df_trainの総データ数: {len(df_train)}\")\n",
    "print(f\"df_testの総データ数: {len(df_test)}\")"
   ]
  },
  {
   "cell_type": "code",
   "execution_count": 3,
   "metadata": {},
   "outputs": [
    {
     "name": "stdout",
     "output_type": "stream",
     "text": [
      "df_trainの欠損値の数: PassengerId      0\n",
      "Survived         0\n",
      "Pclass           0\n",
      "Name             0\n",
      "Sex              0\n",
      "Age            177\n",
      "SibSp            0\n",
      "Parch            0\n",
      "Ticket           0\n",
      "Fare             0\n",
      "Cabin          687\n",
      "Embarked         2\n",
      "dtype: int64\n",
      "df_testの欠損値の数: PassengerId      0\n",
      "Pclass           0\n",
      "Name             0\n",
      "Sex              0\n",
      "Age             86\n",
      "SibSp            0\n",
      "Parch            0\n",
      "Ticket           0\n",
      "Fare             1\n",
      "Cabin          327\n",
      "Embarked         0\n",
      "dtype: int64\n"
     ]
    }
   ],
   "source": [
    "print(f'df_trainの欠損値の数: {df_train.isnull().sum()}')\n",
    "print(f'df_testの欠損値の数: {df_test.isnull().sum()}')"
   ]
  },
  {
   "cell_type": "code",
   "execution_count": 4,
   "metadata": {},
   "outputs": [
    {
     "name": "stdout",
     "output_type": "stream",
     "text": [
      "        PassengerId    Survived      Pclass                     Name   Sex  \\\n",
      "count    891.000000  891.000000  891.000000                      891   891   \n",
      "unique          NaN         NaN         NaN                      891     2   \n",
      "top             NaN         NaN         NaN  Hodges, Mr. Henry Price  male   \n",
      "freq            NaN         NaN         NaN                        1   577   \n",
      "mean     446.000000    0.383838    2.308642                      NaN   NaN   \n",
      "std      257.353842    0.486592    0.836071                      NaN   NaN   \n",
      "min        1.000000    0.000000    1.000000                      NaN   NaN   \n",
      "25%      223.500000    0.000000    2.000000                      NaN   NaN   \n",
      "50%      446.000000    0.000000    3.000000                      NaN   NaN   \n",
      "75%      668.500000    1.000000    3.000000                      NaN   NaN   \n",
      "max      891.000000    1.000000    3.000000                      NaN   NaN   \n",
      "\n",
      "               Age       SibSp       Parch Ticket        Fare    Cabin  \\\n",
      "count   714.000000  891.000000  891.000000    891  891.000000      204   \n",
      "unique         NaN         NaN         NaN    681         NaN      147   \n",
      "top            NaN         NaN         NaN   1601         NaN  B96 B98   \n",
      "freq           NaN         NaN         NaN      7         NaN        4   \n",
      "mean     29.699118    0.523008    0.381594    NaN   32.204208      NaN   \n",
      "std      14.526497    1.102743    0.806057    NaN   49.693429      NaN   \n",
      "min       0.420000    0.000000    0.000000    NaN    0.000000      NaN   \n",
      "25%      20.125000    0.000000    0.000000    NaN    7.910400      NaN   \n",
      "50%      28.000000    0.000000    0.000000    NaN   14.454200      NaN   \n",
      "75%      38.000000    1.000000    0.000000    NaN   31.000000      NaN   \n",
      "max      80.000000    8.000000    6.000000    NaN  512.329200      NaN   \n",
      "\n",
      "       Embarked  \n",
      "count       889  \n",
      "unique        3  \n",
      "top           S  \n",
      "freq        644  \n",
      "mean        NaN  \n",
      "std         NaN  \n",
      "min         NaN  \n",
      "25%         NaN  \n",
      "50%         NaN  \n",
      "75%         NaN  \n",
      "max         NaN  \n",
      "        PassengerId      Pclass                                     Name  \\\n",
      "count    418.000000  418.000000                                      418   \n",
      "unique          NaN         NaN                                      418   \n",
      "top             NaN         NaN  Rasmussen, Mrs. (Lena Jacobsen Solvang)   \n",
      "freq            NaN         NaN                                        1   \n",
      "mean    1100.500000    2.265550                                      NaN   \n",
      "std      120.810458    0.841838                                      NaN   \n",
      "min      892.000000    1.000000                                      NaN   \n",
      "25%      996.250000    1.000000                                      NaN   \n",
      "50%     1100.500000    3.000000                                      NaN   \n",
      "75%     1204.750000    3.000000                                      NaN   \n",
      "max     1309.000000    3.000000                                      NaN   \n",
      "\n",
      "         Sex         Age       SibSp       Parch    Ticket        Fare  \\\n",
      "count    418  332.000000  418.000000  418.000000       418  417.000000   \n",
      "unique     2         NaN         NaN         NaN       363         NaN   \n",
      "top     male         NaN         NaN         NaN  PC 17608         NaN   \n",
      "freq     266         NaN         NaN         NaN         5         NaN   \n",
      "mean     NaN   30.272590    0.447368    0.392344       NaN   35.627188   \n",
      "std      NaN   14.181209    0.896760    0.981429       NaN   55.907576   \n",
      "min      NaN    0.170000    0.000000    0.000000       NaN    0.000000   \n",
      "25%      NaN   21.000000    0.000000    0.000000       NaN    7.895800   \n",
      "50%      NaN   27.000000    0.000000    0.000000       NaN   14.454200   \n",
      "75%      NaN   39.000000    1.000000    0.000000       NaN   31.500000   \n",
      "max      NaN   76.000000    8.000000    9.000000       NaN  512.329200   \n",
      "\n",
      "                  Cabin Embarked  \n",
      "count                91      418  \n",
      "unique               76        3  \n",
      "top     B57 B59 B63 B66        S  \n",
      "freq                  3      270  \n",
      "mean                NaN      NaN  \n",
      "std                 NaN      NaN  \n",
      "min                 NaN      NaN  \n",
      "25%                 NaN      NaN  \n",
      "50%                 NaN      NaN  \n",
      "75%                 NaN      NaN  \n",
      "max                 NaN      NaN  \n"
     ]
    }
   ],
   "source": [
    "print(df_train.describe(include=\"all\"))\n",
    "print(df_test.describe(include=\"all\"))"
   ]
  },
  {
   "cell_type": "code",
   "execution_count": 5,
   "metadata": {},
   "outputs": [
    {
     "name": "stdout",
     "output_type": "stream",
     "text": [
      "PassengerId  unique: 891  [1 2 3 4 5]\n",
      "Survived  unique: 2  [0 1]\n",
      "Pclass  unique: 3  [3 1 2]\n",
      "Name  unique: 891  ['Braund, Mr. Owen Harris'\n",
      " 'Cumings, Mrs. John Bradley (Florence Briggs Thayer)'\n",
      " 'Heikkinen, Miss. Laina' 'Futrelle, Mrs. Jacques Heath (Lily May Peel)'\n",
      " 'Allen, Mr. William Henry']\n",
      "Sex  unique: 2  ['male' 'female']\n",
      "Age  unique: 89  [22. 38. 26. 35. nan]\n",
      "SibSp  unique: 7  [1 0 3 4 2]\n",
      "Parch  unique: 7  [0 1 2 5 3]\n",
      "Ticket  unique: 681  ['A/5 21171' 'PC 17599' 'STON/O2. 3101282' '113803' '373450']\n",
      "Fare  unique: 248  [ 7.25   71.2833  7.925  53.1     8.05  ]\n",
      "Cabin  unique: 148  [nan 'C85' 'C123' 'E46' 'G6']\n",
      "Embarked  unique: 4  ['S' 'C' 'Q' nan]\n"
     ]
    }
   ],
   "source": [
    "for column in df_train.columns:\n",
    "    unique = df_train[column].unique()\n",
    "    \n",
    "    print(f\"{column}  unique: {len(unique)}  {unique[:5]}\")"
   ]
  },
  {
   "cell_type": "code",
   "execution_count": 6,
   "metadata": {},
   "outputs": [
    {
     "data": {
      "text/plain": [
       "<matplotlib.axes._subplots.AxesSubplot at 0x4046eb5390>"
      ]
     },
     "execution_count": 6,
     "metadata": {},
     "output_type": "execute_result"
    },
    {
     "data": {
      "image/png": "[encoded data removed]",
      "text/plain": [
       "<Figure size 432x288 with 1 Axes>"
      ]
     },
     "metadata": {
      "needs_background": "light"
     },
     "output_type": "display_data"
    }
   ],
   "source": [
    "sns.countplot(x=target, data=df_train)"
   ]
  },
  {
   "cell_type": "code",
   "execution_count": 7,
   "metadata": {},
   "outputs": [
    {
     "data": {
      "text/plain": [
       "<matplotlib.axes._subplots.AxesSubplot at 0x404763dd90>"
      ]
     },
     "execution_count": 7,
     "metadata": {},
     "output_type": "execute_result"
    },
    {
     "data": {
      "image/png": "[encoded data removed]",
      "text/plain": [
       "<Figure size 432x288 with 1 Axes>"
      ]
     },
     "metadata": {
      "needs_background": "light"
     },
     "output_type": "display_data"
    }
   ],
   "source": [
    "# カテゴリカル変数の可視化\n",
    "sns.countplot(df_train[\"Pclass\"], hue=df_train[target])"
   ]
  },
  {
   "cell_type": "code",
   "execution_count": 8,
   "metadata": {},
   "outputs": [
    {
     "data": {
      "text/plain": [
       "<matplotlib.axes._subplots.AxesSubplot at 0x4047760950>"
      ]
     },
     "execution_count": 8,
     "metadata": {},
     "output_type": "execute_result"
    },
    {
     "data": {
      "image/png": "[encoded data removed]",
      "text/plain": [
       "<Figure size 432x288 with 1 Axes>"
      ]
     },
     "metadata": {
      "needs_background": "light"
     },
     "output_type": "display_data"
    }
   ],
   "source": [
    "sns.countplot(df_train[\"Sex\"], hue=df_train[target])"
   ]
  },
  {
   "cell_type": "code",
   "execution_count": 9,
   "metadata": {},
   "outputs": [
    {
     "data": {
      "text/plain": [
       "<matplotlib.axes._subplots.AxesSubplot at 0x40478c0a50>"
      ]
     },
     "execution_count": 9,
     "metadata": {},
     "output_type": "execute_result"
    },
    {
     "data": {
      "image/png": "[encoded data removed]",
      "text/plain": [
       "<Figure size 432x288 with 1 Axes>"
      ]
     },
     "metadata": {
      "needs_background": "light"
     },
     "output_type": "display_data"
    }
   ],
   "source": [
    "sns.countplot(df_train[\"SibSp\"], hue=df_train[target])"
   ]
  },
  {
   "cell_type": "code",
   "execution_count": 10,
   "metadata": {},
   "outputs": [
    {
     "data": {
      "text/plain": [
       "<matplotlib.axes._subplots.AxesSubplot at 0x4047bdfe10>"
      ]
     },
     "execution_count": 10,
     "metadata": {},
     "output_type": "execute_result"
    },
    {
     "data": {
      "image/png": "[encoded data removed]",
      "text/plain": [
       "<Figure size 432x288 with 1 Axes>"
      ]
     },
     "metadata": {
      "needs_background": "light"
     },
     "output_type": "display_data"
    }
   ],
   "source": [
    "sns.countplot(df_train[\"Parch\"], hue=df_train[target])"
   ]
  },
  {
   "cell_type": "code",
   "execution_count": 11,
   "metadata": {},
   "outputs": [
    {
     "data": {
      "text/plain": [
       "<matplotlib.axes._subplots.AxesSubplot at 0x4047d34190>"
      ]
     },
     "execution_count": 11,
     "metadata": {},
     "output_type": "execute_result"
    },
    {
     "data": {
      "image/png": "[encoded data removed]",
      "text/plain": [
       "<Figure size 432x288 with 1 Axes>"
      ]
     },
     "metadata": {
      "needs_background": "light"
     },
     "output_type": "display_data"
    }
   ],
   "source": [
    "sns.countplot(df_train[\"Embarked\"], hue=df_train[target])"
   ]
  },
  {
   "cell_type": "code",
   "execution_count": 12,
   "metadata": {},
   "outputs": [
    {
     "data": {
      "text/plain": [
       "<matplotlib.axes._subplots.AxesSubplot at 0x4047e73a50>"
      ]
     },
     "execution_count": 12,
     "metadata": {},
     "output_type": "execute_result"
    },
    {
     "data": {
      "image/png": "[encoded data removed]",
      "text/plain": [
       "<Figure size 432x288 with 1 Axes>"
      ]
     },
     "metadata": {
      "needs_background": "light"
     },
     "output_type": "display_data"
    }
   ],
   "source": [
    "sns.distplot(df_train[df_train[target]==1][\"Age\"], kde=True, rug=False, bins=20, label=1)\n",
    "sns.distplot(df_train[df_train[target]==0][\"Age\"], kde=True, rug=False, bins=20, label=0)"
   ]
  },
  {
   "cell_type": "code",
   "execution_count": 13,
   "metadata": {},
   "outputs": [
    {
     "data": {
      "text/plain": [
       "<matplotlib.axes._subplots.AxesSubplot at 0x40481c5350>"
      ]
     },
     "execution_count": 13,
     "metadata": {},
     "output_type": "execute_result"
    },
    {
     "data": {
      "image/png": "[encoded data removed]",
      "text/plain": [
       "<Figure size 432x288 with 1 Axes>"
      ]
     },
     "metadata": {
      "needs_background": "light"
     },
     "output_type": "display_data"
    }
   ],
   "source": [
    "sns.distplot(df_train[df_train[target]==1][\"Fare\"], kde=True, rug=False, bins=10, label=1)\n",
    "sns.distplot(df_train[df_train[target]==0][\"Fare\"], kde=True, rug=False, bins=10, label=1)\n"
   ]
  },
  {
   "cell_type": "code",
   "execution_count": null,
   "metadata": {},
   "outputs": [],
   "source": []
  }
 ],
 "metadata": {
  "kernelspec": {
   "display_name": "Python 3",
   "language": "python",
   "name": "python3"
  },
  "language_info": {
   "codemirror_mode": {
    "name": "ipython",
    "version": 3
   },
   "file_extension": ".py",
   "mimetype": "text/x-python",
   "name": "python",
   "nbconvert_exporter": "python",
   "pygments_lexer": "ipython3",
   "version": "3.7.4"
  }
 },
 "nbformat": 4,
 "nbformat_minor": 4
}
