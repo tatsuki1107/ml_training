{
 "cells": [
  {
   "cell_type": "code",
   "execution_count": 1,
   "metadata": {},
   "outputs": [],
   "source": [
    "import pandas as pd\n",
    "import numpy as np\n",
    "\n",
    "df_train = pd.read_csv('../data/train.csv')\n",
    "df_test = pd.read_csv('../data/test.csv')"
   ]
  },
  {
   "cell_type": "markdown",
   "metadata": {},
   "source": [
    "## 前処理"
   ]
  },
  {
   "cell_type": "code",
   "execution_count": 2,
   "metadata": {},
   "outputs": [],
   "source": [
    "def missing_value(df):\n",
    "    # 欠損値フラグ\n",
    "    df[\"Age_na\"] = df[\"Age\"].isnull().astype(np.int64)\n",
    "    # 欠損値を中央値に\n",
    "    df[\"Age\"].fillna(df[\"Age\"].median(), inplace=True)\n",
    "\n",
    "missing_value(df_train)\n",
    "missing_value(df_test)"
   ]
  },
  {
   "cell_type": "code",
   "execution_count": 3,
   "metadata": {},
   "outputs": [],
   "source": [
    "df_train[\"Embarked\"].fillna(\"S\", inplace=True)\n",
    "df_test[\"Fare\"].fillna(df_test[\"Fare\"].median(), inplace=True)"
   ]
  },
  {
   "cell_type": "code",
   "execution_count": 4,
   "metadata": {},
   "outputs": [],
   "source": [
    "def normalization(df, names):\n",
    "    for name in names:\n",
    "        df[name] = (df[name] - df[name].mean()) / df[name].std() # 不偏分散\n",
    "\n",
    "names = [\"Age\", \"Fare\"]\n",
    "#normalization(df_train, names)\n",
    "#normalization(df_test, names)"
   ]
  },
  {
   "cell_type": "code",
   "execution_count": 5,
   "metadata": {},
   "outputs": [],
   "source": [
    "def dummy(df):\n",
    "    df = pd.get_dummies(df, \n",
    "                        columns=[\n",
    "        \"Pclass\", \"Sex\", \n",
    "        #\"SibSp\", \"Parch\", \n",
    "        \"Embarked\"\n",
    "                        ],\n",
    "                        drop_first=True\n",
    "                        \n",
    "    )\n",
    "    return df\n",
    "\n",
    "df_train = dummy(df_train)\n",
    "df_test = dummy(df_test)"
   ]
  },
  {
   "cell_type": "code",
   "execution_count": 6,
   "metadata": {},
   "outputs": [
    {
     "name": "stdout",
     "output_type": "stream",
     "text": [
      "['PassengerId', 'Survived', 'Name', 'Age', 'SibSp', 'Parch', 'Ticket', 'Fare', 'Cabin', 'Age_na', 'Pclass_2', 'Pclass_3', 'Sex_male', 'Embarked_Q', 'Embarked_S']\n"
     ]
    }
   ],
   "source": [
    "select_columns = list(df_train.columns)\n",
    "print(select_columns)"
   ]
  },
  {
   "cell_type": "code",
   "execution_count": 7,
   "metadata": {},
   "outputs": [
    {
     "ename": "ModuleNotFoundError",
     "evalue": "No module named 'xgboost'",
     "output_type": "error",
     "traceback": [
      "\u001b[0;31m\u001b[0m",
      "\u001b[0;31mModuleNotFoundError\u001b[0mTraceback (most recent call last)",
      "\u001b[0;32m<ipython-input-7-fb69a2484296>\u001b[0m in \u001b[0;36m<module>\u001b[0;34m\u001b[0m\n\u001b[1;32m      6\u001b[0m \u001b[0;32mimport\u001b[0m \u001b[0msklearn\u001b[0m\u001b[0;34m.\u001b[0m\u001b[0mtree\u001b[0m\u001b[0;34m\u001b[0m\u001b[0;34m\u001b[0m\u001b[0m\n\u001b[1;32m      7\u001b[0m \u001b[0;32mimport\u001b[0m \u001b[0msklearn\u001b[0m\u001b[0;34m.\u001b[0m\u001b[0mdiscriminant_analysis\u001b[0m\u001b[0;34m\u001b[0m\u001b[0;34m\u001b[0m\u001b[0m\n\u001b[0;32m----> 8\u001b[0;31m \u001b[0;32mimport\u001b[0m \u001b[0mxgboost\u001b[0m \u001b[0;32mas\u001b[0m \u001b[0mxgb\u001b[0m\u001b[0;34m\u001b[0m\u001b[0;34m\u001b[0m\u001b[0m\n\u001b[0m\u001b[1;32m      9\u001b[0m \u001b[0;32mimport\u001b[0m \u001b[0mlightgbm\u001b[0m \u001b[0;32mas\u001b[0m \u001b[0mlgb\u001b[0m\u001b[0;34m\u001b[0m\u001b[0;34m\u001b[0m\u001b[0m\n\u001b[1;32m     10\u001b[0m \u001b[0;32mdef\u001b[0m \u001b[0mcreate_models\u001b[0m\u001b[0;34m(\u001b[0m\u001b[0mrandom_seed\u001b[0m\u001b[0;34m)\u001b[0m\u001b[0;34m:\u001b[0m\u001b[0;34m\u001b[0m\u001b[0;34m\u001b[0m\u001b[0m\n",
      "\u001b[0;31mModuleNotFoundError\u001b[0m: No module named 'xgboost'"
     ]
    }
   ],
   "source": [
    "import sklearn.ensemble\n",
    "import sklearn.gaussian_process\n",
    "import sklearn.naive_bayes\n",
    "import sklearn.linear_model\n",
    "import sklearn.neighbors\n",
    "import sklearn.tree\n",
    "import sklearn.discriminant_analysis\n",
    "import xgboost as xgb\n",
    "import lightgbm as lgb\n",
    "def create_models(random_seed):\n",
    "    models = [\n",
    "        #Ensemble Methods\n",
    "        sklearn.ensemble.AdaBoostClassifier(random_state=random_seed),\n",
    "        sklearn.ensemble.BaggingClassifier(random_state=random_seed),\n",
    "        sklearn.ensemble.ExtraTreesClassifier(random_state=random_seed),\n",
    "        sklearn.ensemble.GradientBoostingClassifier(random_state=random_seed),\n",
    "        sklearn.ensemble.RandomForestClassifier(random_state=random_seed),\n",
    "\n",
    "        #Gaussian Processes\n",
    "        sklearn.gaussian_process.GaussianProcessClassifier(random_state=random_seed),\n",
    "\n",
    "        #GLM\n",
    "        sklearn.linear_model.LogisticRegressionCV(random_state=random_seed),\n",
    "        sklearn.linear_model.RidgeClassifierCV(),\n",
    "\n",
    "        #Navies Bayes\n",
    "        sklearn.naive_bayes.BernoulliNB(),\n",
    "        sklearn.naive_bayes.GaussianNB(),\n",
    "\n",
    "        #Nearest Neighbor\n",
    "        sklearn.neighbors.KNeighborsClassifier(),\n",
    "\n",
    "        #Trees\n",
    "        sklearn.tree.DecisionTreeClassifier(random_state=random_seed),\n",
    "        sklearn.tree.ExtraTreeClassifier(random_state=random_seed),\n",
    "\n",
    "        #Discriminant Analysis\n",
    "        sklearn.discriminant_analysis.LinearDiscriminantAnalysis(),\n",
    "        sklearn.discriminant_analysis.QuadraticDiscriminantAnalysis(),\n",
    "\n",
    "        #xgboost\n",
    "        xgb.XGBClassifier(eval_metric=\"logloss\", use_label_encoder=False, random_state=random_seed),\n",
    "        \n",
    "        # light bgm\n",
    "        lgb.LGBMClassifier(random_state=random_seed),\n",
    "    ]\n",
    "    return models"
   ]
  },
  {
   "cell_type": "code",
   "execution_count": null,
   "metadata": {},
   "outputs": [],
   "source": [
    "pip list"
   ]
  },
  {
   "cell_type": "code",
   "execution_count": null,
   "metadata": {},
   "outputs": [],
   "source": []
  }
 ],
 "metadata": {
  "kernelspec": {
   "display_name": "Python 3",
   "language": "python",
   "name": "python3"
  },
  "language_info": {
   "codemirror_mode": {
    "name": "ipython",
    "version": 3
   },
   "file_extension": ".py",
   "mimetype": "text/x-python",
   "name": "python",
   "nbconvert_exporter": "python",
   "pygments_lexer": "ipython3",
   "version": "3.7.4"
  }
 },
 "nbformat": 4,
 "nbformat_minor": 4
}
