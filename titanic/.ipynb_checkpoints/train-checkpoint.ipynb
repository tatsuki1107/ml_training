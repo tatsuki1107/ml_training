{
 "cells": [
  {
   "cell_type": "code",
   "execution_count": 1,
   "metadata": {},
   "outputs": [],
   "source": [
    "import pandas as pd\n",
    "import numpy as np\n",
    "import warnings\n",
    "warnings.filterwarnings('ignore')\n",
    "\n",
    "df_train = pd.read_csv('../data/train.csv')\n",
    "df_test = pd.read_csv('../data/test.csv')\n",
    "random_seed = 1234"
   ]
  },
  {
   "cell_type": "markdown",
   "metadata": {},
   "source": [
    "## 前処理"
   ]
  },
  {
   "cell_type": "code",
   "execution_count": 2,
   "metadata": {},
   "outputs": [],
   "source": [
    "def missing_value(df):\n",
    "    # 欠損値フラグ\n",
    "    df[\"Age_na\"] = df[\"Age\"].isnull().astype(np.int64)\n",
    "    # 欠損値を中央値に\n",
    "    df[\"Age\"].fillna(df[\"Age\"].median(), inplace=True)\n",
    "\n",
    "missing_value(df_train)\n",
    "missing_value(df_test)"
   ]
  },
  {
   "cell_type": "code",
   "execution_count": 3,
   "metadata": {},
   "outputs": [],
   "source": [
    "df_train[\"Embarked\"].fillna(\"S\", inplace=True)\n",
    "df_test[\"Fare\"].fillna(df_test[\"Fare\"].median(), inplace=True)"
   ]
  },
  {
   "cell_type": "code",
   "execution_count": 4,
   "metadata": {},
   "outputs": [
    {
     "data": {
      "text/plain": [
       "PassengerId      0\n",
       "Survived         0\n",
       "Pclass           0\n",
       "Name             0\n",
       "Sex              0\n",
       "Age              0\n",
       "SibSp            0\n",
       "Parch            0\n",
       "Ticket           0\n",
       "Fare             0\n",
       "Cabin          687\n",
       "Embarked         0\n",
       "Age_na           0\n",
       "dtype: int64"
      ]
     },
     "execution_count": 4,
     "metadata": {},
     "output_type": "execute_result"
    }
   ],
   "source": [
    "df_train.isnull().sum()"
   ]
  },
  {
   "cell_type": "code",
   "execution_count": 5,
   "metadata": {},
   "outputs": [],
   "source": [
    "def normalization(df, names):\n",
    "    for name in names:\n",
    "        df[name] = (df[name] - df[name].mean()) / df[name].std() # 不偏分散\n",
    "\n",
    "names = [\"Age\", \"Fare\"]\n",
    "#normalization(df_train, names)\n",
    "#normalization(df_test, names)"
   ]
  },
  {
   "cell_type": "code",
   "execution_count": 6,
   "metadata": {},
   "outputs": [],
   "source": [
    "def dummy(df):\n",
    "    df = pd.get_dummies(df, \n",
    "                        columns=[\n",
    "        \"Pclass\", \"Sex\", \n",
    "        #\"SibSp\", \"Parch\", \n",
    "        \"Embarked\"\n",
    "                        ],\n",
    "                        drop_first=True\n",
    "                        \n",
    "    )\n",
    "    return df\n",
    "\n",
    "df_train = dummy(df_train)\n",
    "df_test = dummy(df_test)"
   ]
  },
  {
   "cell_type": "code",
   "execution_count": 7,
   "metadata": {},
   "outputs": [
    {
     "name": "stdout",
     "output_type": "stream",
     "text": [
      "['Age', 'SibSp', 'Parch', 'Fare', 'Age_na', 'Pclass_2', 'Pclass_3', 'Sex_male', 'Embarked_Q', 'Embarked_S']\n"
     ]
    }
   ],
   "source": [
    "select_columns = [\n",
    "    'Age', 'SibSp', 'Parch', 'Fare', \n",
    "    'Age_na', 'Pclass_2', 'Pclass_3', \n",
    "    'Sex_male', 'Embarked_Q', 'Embarked_S'\n",
    "]\n",
    "target = \"Survived\"\n",
    "print(select_columns)"
   ]
  },
  {
   "cell_type": "code",
   "execution_count": 8,
   "metadata": {},
   "outputs": [
    {
     "name": "stderr",
     "output_type": "stream",
     "text": [
      "/opt/anaconda3/lib/python3.7/site-packages/sklearn/ensemble/forest.py:245: FutureWarning: The default value of n_estimators will change from 10 in version 0.20 to 100 in 0.22.\n",
      "  \"10 in version 0.20 to 100 in 0.22.\", FutureWarning)\n",
      "/opt/anaconda3/lib/python3.7/site-packages/sklearn/ensemble/forest.py:245: FutureWarning: The default value of n_estimators will change from 10 in version 0.20 to 100 in 0.22.\n",
      "  \"10 in version 0.20 to 100 in 0.22.\", FutureWarning)\n",
      "/opt/anaconda3/lib/python3.7/site-packages/sklearn/model_selection/_split.py:1978: FutureWarning: The default value of cv will change from 3 to 5 in version 0.22. Specify it explicitly to silence this warning.\n",
      "  warnings.warn(CV_WARNING, FutureWarning)\n",
      "/opt/anaconda3/lib/python3.7/site-packages/sklearn/linear_model/logistic.py:947: ConvergenceWarning: lbfgs failed to converge. Increase the number of iterations.\n",
      "  \"of iterations.\", ConvergenceWarning)\n",
      "/opt/anaconda3/lib/python3.7/site-packages/sklearn/linear_model/logistic.py:947: ConvergenceWarning: lbfgs failed to converge. Increase the number of iterations.\n",
      "  \"of iterations.\", ConvergenceWarning)\n",
      "/opt/anaconda3/lib/python3.7/site-packages/sklearn/linear_model/logistic.py:947: ConvergenceWarning: lbfgs failed to converge. Increase the number of iterations.\n",
      "  \"of iterations.\", ConvergenceWarning)\n",
      "/opt/anaconda3/lib/python3.7/site-packages/sklearn/linear_model/logistic.py:947: ConvergenceWarning: lbfgs failed to converge. Increase the number of iterations.\n",
      "  \"of iterations.\", ConvergenceWarning)\n",
      "/opt/anaconda3/lib/python3.7/site-packages/sklearn/linear_model/logistic.py:947: ConvergenceWarning: lbfgs failed to converge. Increase the number of iterations.\n",
      "  \"of iterations.\", ConvergenceWarning)\n",
      "/opt/anaconda3/lib/python3.7/site-packages/sklearn/linear_model/logistic.py:947: ConvergenceWarning: lbfgs failed to converge. Increase the number of iterations.\n",
      "  \"of iterations.\", ConvergenceWarning)\n",
      "/opt/anaconda3/lib/python3.7/site-packages/sklearn/linear_model/logistic.py:947: ConvergenceWarning: lbfgs failed to converge. Increase the number of iterations.\n",
      "  \"of iterations.\", ConvergenceWarning)\n",
      "/opt/anaconda3/lib/python3.7/site-packages/sklearn/linear_model/logistic.py:947: ConvergenceWarning: lbfgs failed to converge. Increase the number of iterations.\n",
      "  \"of iterations.\", ConvergenceWarning)\n",
      "/opt/anaconda3/lib/python3.7/site-packages/sklearn/linear_model/logistic.py:947: ConvergenceWarning: lbfgs failed to converge. Increase the number of iterations.\n",
      "  \"of iterations.\", ConvergenceWarning)\n",
      "/opt/anaconda3/lib/python3.7/site-packages/sklearn/ensemble/forest.py:245: FutureWarning: The default value of n_estimators will change from 10 in version 0.20 to 100 in 0.22.\n",
      "  \"10 in version 0.20 to 100 in 0.22.\", FutureWarning)\n",
      "/opt/anaconda3/lib/python3.7/site-packages/sklearn/ensemble/forest.py:245: FutureWarning: The default value of n_estimators will change from 10 in version 0.20 to 100 in 0.22.\n",
      "  \"10 in version 0.20 to 100 in 0.22.\", FutureWarning)\n",
      "/opt/anaconda3/lib/python3.7/site-packages/sklearn/model_selection/_split.py:1978: FutureWarning: The default value of cv will change from 3 to 5 in version 0.22. Specify it explicitly to silence this warning.\n",
      "  warnings.warn(CV_WARNING, FutureWarning)\n",
      "/opt/anaconda3/lib/python3.7/site-packages/sklearn/linear_model/logistic.py:947: ConvergenceWarning: lbfgs failed to converge. Increase the number of iterations.\n",
      "  \"of iterations.\", ConvergenceWarning)\n",
      "/opt/anaconda3/lib/python3.7/site-packages/sklearn/linear_model/logistic.py:947: ConvergenceWarning: lbfgs failed to converge. Increase the number of iterations.\n",
      "  \"of iterations.\", ConvergenceWarning)\n",
      "/opt/anaconda3/lib/python3.7/site-packages/sklearn/linear_model/logistic.py:947: ConvergenceWarning: lbfgs failed to converge. Increase the number of iterations.\n",
      "  \"of iterations.\", ConvergenceWarning)\n",
      "/opt/anaconda3/lib/python3.7/site-packages/sklearn/linear_model/logistic.py:947: ConvergenceWarning: lbfgs failed to converge. Increase the number of iterations.\n",
      "  \"of iterations.\", ConvergenceWarning)\n",
      "/opt/anaconda3/lib/python3.7/site-packages/sklearn/linear_model/logistic.py:947: ConvergenceWarning: lbfgs failed to converge. Increase the number of iterations.\n",
      "  \"of iterations.\", ConvergenceWarning)\n",
      "/opt/anaconda3/lib/python3.7/site-packages/sklearn/linear_model/logistic.py:947: ConvergenceWarning: lbfgs failed to converge. Increase the number of iterations.\n",
      "  \"of iterations.\", ConvergenceWarning)\n",
      "/opt/anaconda3/lib/python3.7/site-packages/sklearn/linear_model/logistic.py:947: ConvergenceWarning: lbfgs failed to converge. Increase the number of iterations.\n",
      "  \"of iterations.\", ConvergenceWarning)\n",
      "/opt/anaconda3/lib/python3.7/site-packages/sklearn/ensemble/forest.py:245: FutureWarning: The default value of n_estimators will change from 10 in version 0.20 to 100 in 0.22.\n",
      "  \"10 in version 0.20 to 100 in 0.22.\", FutureWarning)\n",
      "/opt/anaconda3/lib/python3.7/site-packages/sklearn/ensemble/forest.py:245: FutureWarning: The default value of n_estimators will change from 10 in version 0.20 to 100 in 0.22.\n",
      "  \"10 in version 0.20 to 100 in 0.22.\", FutureWarning)\n",
      "/opt/anaconda3/lib/python3.7/site-packages/sklearn/model_selection/_split.py:1978: FutureWarning: The default value of cv will change from 3 to 5 in version 0.22. Specify it explicitly to silence this warning.\n",
      "  warnings.warn(CV_WARNING, FutureWarning)\n",
      "/opt/anaconda3/lib/python3.7/site-packages/sklearn/linear_model/logistic.py:947: ConvergenceWarning: lbfgs failed to converge. Increase the number of iterations.\n",
      "  \"of iterations.\", ConvergenceWarning)\n",
      "/opt/anaconda3/lib/python3.7/site-packages/sklearn/linear_model/logistic.py:947: ConvergenceWarning: lbfgs failed to converge. Increase the number of iterations.\n",
      "  \"of iterations.\", ConvergenceWarning)\n",
      "/opt/anaconda3/lib/python3.7/site-packages/sklearn/linear_model/logistic.py:947: ConvergenceWarning: lbfgs failed to converge. Increase the number of iterations.\n",
      "  \"of iterations.\", ConvergenceWarning)\n",
      "/opt/anaconda3/lib/python3.7/site-packages/sklearn/linear_model/logistic.py:947: ConvergenceWarning: lbfgs failed to converge. Increase the number of iterations.\n",
      "  \"of iterations.\", ConvergenceWarning)\n",
      "/opt/anaconda3/lib/python3.7/site-packages/sklearn/linear_model/logistic.py:947: ConvergenceWarning: lbfgs failed to converge. Increase the number of iterations.\n",
      "  \"of iterations.\", ConvergenceWarning)\n",
      "/opt/anaconda3/lib/python3.7/site-packages/sklearn/linear_model/logistic.py:947: ConvergenceWarning: lbfgs failed to converge. Increase the number of iterations.\n",
      "  \"of iterations.\", ConvergenceWarning)\n",
      "/opt/anaconda3/lib/python3.7/site-packages/sklearn/linear_model/logistic.py:947: ConvergenceWarning: lbfgs failed to converge. Increase the number of iterations.\n",
      "  \"of iterations.\", ConvergenceWarning)\n",
      "/opt/anaconda3/lib/python3.7/site-packages/sklearn/linear_model/logistic.py:947: ConvergenceWarning: lbfgs failed to converge. Increase the number of iterations.\n",
      "  \"of iterations.\", ConvergenceWarning)\n"
     ]
    },
    {
     "name": "stdout",
     "output_type": "stream",
     "text": [
      "正解率 0.798, 適合率 0.756, 再現率 0.699, F値 0.727 : AdaBoostClassifier\n",
      "正解率 0.815, 適合率 0.789, 再現率 0.708, F値 0.745 : BaggingClassifier\n",
      "正解率 0.813, 適合率 0.787, 再現率 0.702, F値 0.742 : ExtraTreesClassifier\n",
      "正解率 0.835, 適合率 0.830, 再現率 0.716, F値 0.769 : GradientBoostingClassifier\n",
      "正解率 0.825, 適合率 0.817, 再現率 0.702, F値 0.755 : RandomForestClassifier\n",
      "正解率 0.700, 適合率 0.628, 再現率 0.541, F値 0.580 : GaussianProcessClassifier\n",
      "正解率 0.806, 適合率 0.786, 再現率 0.681, F値 0.729 : LogisticRegressionCV\n",
      "正解率 0.799, 適合率 0.767, 再現率 0.687, F値 0.724 : RidgeClassifierCV\n",
      "正解率 0.774, 適合率 0.726, 再現率 0.660, F値 0.691 : BernoulliNB\n",
      "正解率 0.779, 適合率 0.727, 再現率 0.678, F値 0.701 : GaussianNB\n",
      "正解率 0.675, 適合率 0.585, 再現率 0.511, F値 0.545 : KNeighborsClassifier\n",
      "正解率 0.787, 適合率 0.724, 再現率 0.720, F値 0.721 : DecisionTreeClassifier\n",
      "正解率 0.773, 適合率 0.700, 再現率 0.716, F値 0.708 : ExtraTreeClassifier\n",
      "正解率 0.799, 適合率 0.767, 再現率 0.687, F値 0.724 : LinearDiscriminantAnalysis\n",
      "正解率 0.800, 適合率 0.763, 再現率 0.698, F値 0.728 : QuadraticDiscriminantAnalysis\n",
      "正解率 0.819, 適合率 0.784, 再現率 0.731, F値 0.756 : XGBClassifier\n",
      "正解率 0.827, 適合率 0.799, 再現率 0.734, F値 0.765 : LGBMClassifier\n"
     ]
    }
   ],
   "source": [
    "from createModels import train\n",
    "\n",
    "train_class = train()\n",
    "train_class.fit(df_train, select_columns, target, random_seed)"
   ]
  },
  {
   "cell_type": "code",
   "execution_count": null,
   "metadata": {},
   "outputs": [],
   "source": [
    "# 提出\n",
    "X = df_train[select_columns].to_numpy()\n",
    "y = df_train[target].to_numpy()\n",
    "\n",
    "X_test = df_test[select_columns].to_numpy()\n",
    "\n",
    "model = sklearn.ensemble.RandomForestClassifier(random_state=random_seed)\n",
    "model.fit(X, y)\n",
    "pred_y = model.predict(X_test)\n",
    "\n",
    "output = pd.DataFrame({\"PassengerId\": df_test[\"PassengerId\"], \"Survived\": pred_y})\n",
    "output.to_csv(\"result.csv\", header=True, index=False)\n"
   ]
  },
  {
   "cell_type": "code",
   "execution_count": null,
   "metadata": {},
   "outputs": [],
   "source": [
    "df_test"
   ]
  },
  {
   "cell_type": "markdown",
   "metadata": {},
   "source": [
    "## 説明変数の影響度"
   ]
  },
  {
   "cell_type": "code",
   "execution_count": null,
   "metadata": {},
   "outputs": [],
   "source": [
    "import matplotlib.pyplot as plt\n",
    "%matplotlib inline\n",
    "\n",
    "def print_feature_importance(df, columns, target, random_seed):\n",
    "    X = df[columns]\n",
    "    y = df[target]\n",
    "    \n",
    "    model = sklearn.ensemble.RandomForestClassifier(random_state=random_seed)\n",
    "    model.fit(X, y)\n",
    "    fti1 = model.feature_importances_\n",
    "    \n",
    "    model = xgb.XGBClassifier(eval_metric=\"logloss\", use_label_encoder=False)\n",
    "    model.fit(X, y)\n",
    "    fti2 = model.feature_importances_\n",
    "    \n",
    "    model = lgb.LGBMClassifier(random_state=random_seed)\n",
    "    model.fit(X, y)\n",
    "    fti3 = model.feature_importances_\n",
    "    \n",
    "    fig = plt.figure()\n",
    "    ax1 = fig.add_subplot(3,1,1,title=\"RandomForestClassifier(Feature Impotance)\")\n",
    "    ax2 = fig.add_subplot(3,1,2,title=\"XGBClassifier(Feature Impotance)\")\n",
    "    ax3 = fig.add_subplot(3,1,3,title=\"LGBMClassifier(Feature Impotance)\")\n",
    "    \n",
    "    ax1.barh(columns, fti1)\n",
    "    ax2.barh(columns, fti2)\n",
    "    ax3.barh(columns, fti3)\n",
    "    fig.tight_layout()\n",
    "    plt.show()\n",
    "\n",
    "print_feature_importance(df_train, select_columns, target, random_seed)"
   ]
  },
  {
   "cell_type": "code",
   "execution_count": null,
   "metadata": {},
   "outputs": [],
   "source": [
    "# 回帰分析\n",
    "\n",
    "from statsmodels.stats.outliers_influence import OLSInfluence, variance_inflation_factor\n",
    "import statsmodels.api as sm\n",
    "\n",
    "def print_statsmodels(df, columns, target):\n",
    "    # 重回帰分析\n",
    "    X = sm.add_constant(df[columns])\n",
    "    y = df[target]\n",
    "    model = sm.OLS(y, X)\n",
    "    fitted = model.fit()\n",
    "    \n",
    "    print('summary = \\n', fitted.summary())\n",
    "    \n",
    "    print('--- 重回帰分析の決定係数')\n",
    "    for i, column in enumerate(columns):\n",
    "        print('\\t{:15s} : {:7.4f}(coef) {:5.1f}%(P>|t|)' .format(\n",
    "            column, fitted.params[i+1], fitted.pvalues[i]*100\n",
    "        ))\n",
    "    print('')\n",
    "    \n",
    "    # クック距離\n",
    "    print('--- 外れ値（cook_distance threshold:0.5）')\n",
    "    for column in columns:\n",
    "        # 単回帰\n",
    "        x = sm.add_constant(df[column])\n",
    "        model= sm.OLS(y, x)\n",
    "        fitted = model.fit()\n",
    "        \n",
    "        cook_distance, p_value = OLSInfluence(fitted).cooks_distance\n",
    "        kouho = np.where(cook_distance > 0.5)[0]\n",
    "        if len(kouho) == 0:\n",
    "            print(\"{:20s} cook_distance is 0(max: {:.4f})\".format(column, np.max(cook_distance)))\n",
    "        else:\n",
    "            for index in kouho:\n",
    "                print(\"{:20s} cook_distance: {}, index: {}\".format(column, cook_distance[index], index))\n",
    "\n",
    "    print(\"\")\n",
    "\n",
    "print_statsmodels(df_train, select_columns, target)\n",
    "\n",
    "    "
   ]
  },
  {
   "cell_type": "markdown",
   "metadata": {},
   "source": [
    "## 説明変数同士の相関"
   ]
  },
  {
   "cell_type": "code",
   "execution_count": null,
   "metadata": {},
   "outputs": [],
   "source": [
    "import seaborn as sns\n",
    "\n",
    "def print_correlation(df, columns):\n",
    "    #　相関係数1:1\n",
    "    print(\"--- 相関係数1:1 (threshold: 0.5)\")\n",
    "    cor = df[columns].corr()\n",
    "    count = 0\n",
    "    for i in range(len(columns)):\n",
    "        for j in range(i+1, len(columns)):\n",
    "            val = cor[columns[i]][j]\n",
    "            if abs(val) > 0.5:\n",
    "                print(\"{} {}: {:.2f}\" .format(columns[i], columns[j], val))\n",
    "                count += 1\n",
    "    if count == 0:\n",
    "        print('empty')\n",
    "    print('')\n",
    "    \n",
    "    # heatmap\n",
    "    plt.figure(figsize=(12,9))\n",
    "    sns.heatmap(df[columns].corr(), annot=True, vmax=1, vmin=-1, fmt='.1f', cmap='RdBu')\n",
    "    plt.show()\n",
    "\n",
    "print_correlation(df_train, select_columns)"
   ]
  },
  {
   "cell_type": "code",
   "execution_count": null,
   "metadata": {},
   "outputs": [],
   "source": [
    "df_train[select_columns].corr()"
   ]
  },
  {
   "cell_type": "code",
   "execution_count": null,
   "metadata": {},
   "outputs": [],
   "source": []
  }
 ],
 "metadata": {
  "kernelspec": {
   "display_name": "Python 3",
   "language": "python",
   "name": "python3"
  },
  "language_info": {
   "codemirror_mode": {
    "name": "ipython",
    "version": 3
   },
   "file_extension": ".py",
   "mimetype": "text/x-python",
   "name": "python",
   "nbconvert_exporter": "python",
   "pygments_lexer": "ipython3",
   "version": "3.7.4"
  }
 },
 "nbformat": 4,
 "nbformat_minor": 4
}
