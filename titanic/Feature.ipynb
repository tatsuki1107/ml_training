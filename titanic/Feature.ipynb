{
 "cells": [
  {
   "cell_type": "markdown",
   "metadata": {},
   "source": [
    "## 特徴量エンジニアリングが中心"
   ]
  },
  {
   "cell_type": "code",
   "execution_count": 1,
   "metadata": {},
   "outputs": [],
   "source": [
    "import pandas as pd\n",
    "import numpy as np\n",
    "import warnings\n",
    "warnings.filterwarnings('ignore')\n",
    "\n",
    "SEED = 1234\n",
    "\n",
    "df_train = pd.read_csv('../data/train.csv')\n",
    "df_test = pd.read_csv('../data/test.csv')"
   ]
  },
  {
   "cell_type": "code",
   "execution_count": 2,
   "metadata": {},
   "outputs": [],
   "source": [
    "from preprocessing import Preprocessing\n",
    "\n",
    "df_train, df_test = Preprocessing().preproces(df_train, df_test)"
   ]
  },
  {
   "cell_type": "code",
   "execution_count": 3,
   "metadata": {},
   "outputs": [],
   "source": [
    "from sklearn.ensemble import RandomForestClassifier\n",
    "from sklearn.metrics import accuracy_score\n",
    "\n",
    "forest = RandomForestClassifier\n",
    "model_params = {\"random_state\": SEED}\n",
    "eval_func = lambda true_y, pred_y: accuracy_score(true_y, pred_y)\n",
    "select_columns = [\n",
    "    'Fare', 'Age_na', \n",
    "    'Pclass_2', 'Pclass_3', 'Sex_male', 'SibSp_1', 'SibSp_2', 'SibSp_3', 'SibSp_4', \n",
    "    'SibSp_5', 'SibSp_8', 'Parch_1', 'Parch_2', 'Parch_3', 'Parch_4', 'Parch_5', \n",
    "    'Parch_6', 'Embarked_Q', 'Embarked_S', \"Age\"\n",
    "]"
   ]
  },
  {
   "cell_type": "code",
   "execution_count": 4,
   "metadata": {},
   "outputs": [
    {
     "name": "stderr",
     "output_type": "stream",
     "text": [
      "100%|██████████| 20/20 [00:05<00:00,  3.99it/s]\n",
      "100%|██████████| 20/20 [00:04<00:00,  4.23it/s]\n",
      "100%|██████████| 20/20 [00:04<00:00,  4.42it/s]\n",
      "100%|██████████| 20/20 [00:04<00:00,  4.64it/s]\n",
      "100%|██████████| 20/20 [00:04<00:00,  4.91it/s]\n",
      "100%|██████████| 20/20 [00:03<00:00,  5.18it/s]"
     ]
    },
    {
     "name": "stdout",
     "output_type": "stream",
     "text": [
      "selected features: ['Sex_male', 'SibSp_3', 'SibSp_8', 'Pclass_3', 'Embarked_S']\n",
      "accuracy score: 0.81\n"
     ]
    },
    {
     "name": "stderr",
     "output_type": "stream",
     "text": [
      "\n"
     ]
    }
   ],
   "source": [
    "from selectFeatures import ForwardFeatureSelection\n",
    "\n",
    "target = \"Survived\"\n",
    "\n",
    "FFS = ForwardFeatureSelection()\n",
    "selected_features = FFS.select(\n",
    "    df_train, select_columns, target, forest, model_params, eval_func\n",
    ")"
   ]
  },
  {
   "cell_type": "code",
   "execution_count": 14,
   "metadata": {},
   "outputs": [],
   "source": [
    "import optuna\n",
    "SEED = 1234\n",
    "\n",
    "def objective(trial):\n",
    "    model_cls = RandomForestClassifier\n",
    "    model_params = {\n",
    "        \"n_estimators\": trial.suggest_int('n_estimators', 50, 1000),\n",
    "        \"criterion\": trial.suggest_categorical('criterion', [\"gini\", \"entropy\"]),\n",
    "        \"max_depth\": trial.suggest_int('max_depth', 1, 100),\n",
    "        \"random_state\": SEED\n",
    "    }\n",
    "    \n",
    "    eval_func = lambda true_y, pred_y: accuracy_score(true_y, pred_y)\n",
    "    metric = FFS.validation(\n",
    "        df_train, selected_features, target, model_cls, model_params, eval_func\n",
    "    )\n",
    "    \n",
    "    return metric"
   ]
  },
  {
   "cell_type": "code",
   "execution_count": null,
   "metadata": {},
   "outputs": [
    {
     "name": "stderr",
     "output_type": "stream",
     "text": [
      "\u001b[32m[I 2022-12-18 10:15:40,108]\u001b[0m A new study created in memory with name: no-name-4a627ce9-0c0e-4fbe-b97a-5cab4075e63d\u001b[0m\n",
      "\u001b[32m[I 2022-12-18 10:15:50,897]\u001b[0m Trial 0 finished with value: 0.8114478114478114 and parameters: {'n_estimators': 629, 'criterion': 'entropy', 'max_depth': 61}. Best is trial 0 with value: 0.8114478114478114.\u001b[0m\n",
      "\u001b[32m[I 2022-12-18 10:15:57,577]\u001b[0m Trial 1 finished with value: 0.8114478114478114 and parameters: {'n_estimators': 394, 'criterion': 'gini', 'max_depth': 20}. Best is trial 0 with value: 0.8114478114478114.\u001b[0m\n",
      "\u001b[32m[I 2022-12-18 10:16:11,168]\u001b[0m Trial 2 finished with value: 0.8114478114478114 and parameters: {'n_estimators': 802, 'criterion': 'gini', 'max_depth': 90}. Best is trial 0 with value: 0.8114478114478114.\u001b[0m\n",
      "\u001b[32m[I 2022-12-18 10:16:14,582]\u001b[0m Trial 3 finished with value: 0.8114478114478114 and parameters: {'n_estimators': 196, 'criterion': 'gini', 'max_depth': 70}. Best is trial 0 with value: 0.8114478114478114.\u001b[0m\n",
      "\u001b[32m[I 2022-12-18 10:16:26,655]\u001b[0m Trial 4 finished with value: 0.8114478114478114 and parameters: {'n_estimators': 697, 'criterion': 'entropy', 'max_depth': 92}. Best is trial 0 with value: 0.8114478114478114.\u001b[0m\n",
      "\u001b[32m[I 2022-12-18 10:16:43,709]\u001b[0m Trial 5 finished with value: 0.8114478114478114 and parameters: {'n_estimators': 997, 'criterion': 'entropy', 'max_depth': 50}. Best is trial 0 with value: 0.8114478114478114.\u001b[0m\n",
      "\u001b[32m[I 2022-12-18 10:16:52,540]\u001b[0m Trial 6 finished with value: 0.8114478114478114 and parameters: {'n_estimators': 517, 'criterion': 'gini', 'max_depth': 29}. Best is trial 0 with value: 0.8114478114478114.\u001b[0m\n",
      "\u001b[32m[I 2022-12-18 10:16:53,546]\u001b[0m Trial 7 finished with value: 0.8114478114478114 and parameters: {'n_estimators': 55, 'criterion': 'entropy', 'max_depth': 7}. Best is trial 0 with value: 0.8114478114478114.\u001b[0m\n",
      "\u001b[32m[I 2022-12-18 10:17:09,101]\u001b[0m Trial 8 finished with value: 0.8002244668911337 and parameters: {'n_estimators': 947, 'criterion': 'entropy', 'max_depth': 2}. Best is trial 0 with value: 0.8114478114478114.\u001b[0m\n",
      "\u001b[32m[I 2022-12-18 10:17:12,838]\u001b[0m Trial 9 finished with value: 0.8114478114478114 and parameters: {'n_estimators': 216, 'criterion': 'entropy', 'max_depth': 73}. Best is trial 0 with value: 0.8114478114478114.\u001b[0m\n",
      "\u001b[32m[I 2022-12-18 10:17:24,318]\u001b[0m Trial 10 finished with value: 0.8114478114478114 and parameters: {'n_estimators': 668, 'criterion': 'entropy', 'max_depth': 48}. Best is trial 0 with value: 0.8114478114478114.\u001b[0m\n",
      "\u001b[32m[I 2022-12-18 10:17:31,790]\u001b[0m Trial 11 finished with value: 0.8114478114478114 and parameters: {'n_estimators': 436, 'criterion': 'gini', 'max_depth': 27}. Best is trial 0 with value: 0.8114478114478114.\u001b[0m\n",
      "\u001b[32m[I 2022-12-18 10:17:38,700]\u001b[0m Trial 12 finished with value: 0.8114478114478114 and parameters: {'n_estimators': 403, 'criterion': 'gini', 'max_depth': 31}. Best is trial 0 with value: 0.8114478114478114.\u001b[0m\n",
      "\u001b[32m[I 2022-12-18 10:17:49,388]\u001b[0m Trial 13 finished with value: 0.8114478114478114 and parameters: {'n_estimators': 628, 'criterion': 'gini', 'max_depth': 64}. Best is trial 0 with value: 0.8114478114478114.\u001b[0m\n",
      "\u001b[32m[I 2022-12-18 10:17:55,036]\u001b[0m Trial 14 finished with value: 0.8114478114478114 and parameters: {'n_estimators': 325, 'criterion': 'entropy', 'max_depth': 20}. Best is trial 0 with value: 0.8114478114478114.\u001b[0m\n",
      "\u001b[32m[I 2022-12-18 10:18:04,464]\u001b[0m Trial 15 finished with value: 0.8114478114478114 and parameters: {'n_estimators': 547, 'criterion': 'gini', 'max_depth': 43}. Best is trial 0 with value: 0.8114478114478114.\u001b[0m\n",
      "\u001b[32m[I 2022-12-18 10:18:17,411]\u001b[0m Trial 16 finished with value: 0.8114478114478114 and parameters: {'n_estimators': 756, 'criterion': 'gini', 'max_depth': 60}. Best is trial 0 with value: 0.8114478114478114.\u001b[0m\n",
      "\u001b[32m[I 2022-12-18 10:18:22,393]\u001b[0m Trial 17 finished with value: 0.8114478114478114 and parameters: {'n_estimators': 287, 'criterion': 'entropy', 'max_depth': 16}. Best is trial 0 with value: 0.8114478114478114.\u001b[0m\n",
      "\u001b[32m[I 2022-12-18 10:18:31,994]\u001b[0m Trial 18 finished with value: 0.8114478114478114 and parameters: {'n_estimators': 561, 'criterion': 'entropy', 'max_depth': 39}. Best is trial 0 with value: 0.8114478114478114.\u001b[0m\n",
      "\u001b[32m[I 2022-12-18 10:18:45,650]\u001b[0m Trial 19 finished with value: 0.8114478114478114 and parameters: {'n_estimators': 810, 'criterion': 'gini', 'max_depth': 60}. Best is trial 0 with value: 0.8114478114478114.\u001b[0m\n",
      "\u001b[32m[I 2022-12-18 10:18:49,698]\u001b[0m Trial 20 finished with value: 0.8114478114478114 and parameters: {'n_estimators': 233, 'criterion': 'entropy', 'max_depth': 84}. Best is trial 0 with value: 0.8114478114478114.\u001b[0m\n",
      "\u001b[32m[I 2022-12-18 10:18:58,678]\u001b[0m Trial 21 finished with value: 0.8114478114478114 and parameters: {'n_estimators': 525, 'criterion': 'entropy', 'max_depth': 40}. Best is trial 0 with value: 0.8114478114478114.\u001b[0m\n",
      "\u001b[32m[I 2022-12-18 10:19:13,844]\u001b[0m Trial 22 finished with value: 0.8114478114478114 and parameters: {'n_estimators': 894, 'criterion': 'entropy', 'max_depth': 62}. Best is trial 0 with value: 0.8114478114478114.\u001b[0m\n",
      "\u001b[32m[I 2022-12-18 10:19:27,070]\u001b[0m Trial 23 finished with value: 0.8114478114478114 and parameters: {'n_estimators': 778, 'criterion': 'entropy', 'max_depth': 79}. Best is trial 0 with value: 0.8114478114478114.\u001b[0m\n",
      "\u001b[32m[I 2022-12-18 10:19:28,108]\u001b[0m Trial 24 finished with value: 0.8114478114478114 and parameters: {'n_estimators': 55, 'criterion': 'entropy', 'max_depth': 100}. Best is trial 0 with value: 0.8114478114478114.\u001b[0m\n",
      "\u001b[32m[I 2022-12-18 10:19:43,009]\u001b[0m Trial 25 finished with value: 0.8114478114478114 and parameters: {'n_estimators': 875, 'criterion': 'entropy', 'max_depth': 57}. Best is trial 0 with value: 0.8114478114478114.\u001b[0m\n",
      "\u001b[32m[I 2022-12-18 10:19:57,525]\u001b[0m Trial 26 finished with value: 0.8114478114478114 and parameters: {'n_estimators': 855, 'criterion': 'entropy', 'max_depth': 78}. Best is trial 0 with value: 0.8114478114478114.\u001b[0m\n",
      "\u001b[32m[I 2022-12-18 10:19:59,270]\u001b[0m Trial 27 finished with value: 0.8114478114478114 and parameters: {'n_estimators': 97, 'criterion': 'entropy', 'max_depth': 97}. Best is trial 0 with value: 0.8114478114478114.\u001b[0m\n",
      "\u001b[32m[I 2022-12-18 10:20:09,693]\u001b[0m Trial 28 finished with value: 0.8114478114478114 and parameters: {'n_estimators': 611, 'criterion': 'entropy', 'max_depth': 100}. Best is trial 0 with value: 0.8114478114478114.\u001b[0m\n",
      "\u001b[32m[I 2022-12-18 10:20:24,252]\u001b[0m Trial 29 finished with value: 0.8114478114478114 and parameters: {'n_estimators': 856, 'criterion': 'entropy', 'max_depth': 73}. Best is trial 0 with value: 0.8114478114478114.\u001b[0m\n",
      "\u001b[32m[I 2022-12-18 10:20:26,591]\u001b[0m Trial 30 finished with value: 0.8114478114478114 and parameters: {'n_estimators': 129, 'criterion': 'entropy', 'max_depth': 88}. Best is trial 0 with value: 0.8114478114478114.\u001b[0m\n",
      "\u001b[32m[I 2022-12-18 10:20:37,132]\u001b[0m Trial 31 finished with value: 0.8114478114478114 and parameters: {'n_estimators': 613, 'criterion': 'entropy', 'max_depth': 100}. Best is trial 0 with value: 0.8114478114478114.\u001b[0m\n",
      "\u001b[32m[I 2022-12-18 10:20:45,635]\u001b[0m Trial 32 finished with value: 0.8114478114478114 and parameters: {'n_estimators': 478, 'criterion': 'entropy', 'max_depth': 93}. Best is trial 0 with value: 0.8114478114478114.\u001b[0m\n",
      "\u001b[32m[I 2022-12-18 10:20:57,969]\u001b[0m Trial 33 finished with value: 0.8114478114478114 and parameters: {'n_estimators': 711, 'criterion': 'entropy', 'max_depth': 83}. Best is trial 0 with value: 0.8114478114478114.\u001b[0m\n",
      "\u001b[32m[I 2022-12-18 10:21:08,365]\u001b[0m Trial 34 finished with value: 0.8114478114478114 and parameters: {'n_estimators': 602, 'criterion': 'entropy', 'max_depth': 88}. Best is trial 0 with value: 0.8114478114478114.\u001b[0m\n",
      "\u001b[32m[I 2022-12-18 10:21:13,491]\u001b[0m Trial 35 finished with value: 0.8114478114478114 and parameters: {'n_estimators': 296, 'criterion': 'gini', 'max_depth': 56}. Best is trial 0 with value: 0.8114478114478114.\u001b[0m\n",
      "\u001b[32m[I 2022-12-18 10:21:19,880]\u001b[0m Trial 36 finished with value: 0.8114478114478114 and parameters: {'n_estimators': 364, 'criterion': 'entropy', 'max_depth': 66}. Best is trial 0 with value: 0.8114478114478114.\u001b[0m\n",
      "\u001b[32m[I 2022-12-18 10:21:23,098]\u001b[0m Trial 37 finished with value: 0.8114478114478114 and parameters: {'n_estimators': 181, 'criterion': 'entropy', 'max_depth': 44}. Best is trial 0 with value: 0.8114478114478114.\u001b[0m\n",
      "\u001b[32m[I 2022-12-18 10:21:39,520]\u001b[0m Trial 38 finished with value: 0.8114478114478114 and parameters: {'n_estimators': 921, 'criterion': 'entropy', 'max_depth': 35}. Best is trial 0 with value: 0.8114478114478114.\u001b[0m\n",
      "\u001b[32m[I 2022-12-18 10:21:52,228]\u001b[0m Trial 39 finished with value: 0.8114478114478114 and parameters: {'n_estimators': 726, 'criterion': 'entropy', 'max_depth': 53}. Best is trial 0 with value: 0.8114478114478114.\u001b[0m\n",
      "\u001b[32m[I 2022-12-18 10:22:06,037]\u001b[0m Trial 40 finished with value: 0.8114478114478114 and parameters: {'n_estimators': 793, 'criterion': 'entropy', 'max_depth': 80}. Best is trial 0 with value: 0.8114478114478114.\u001b[0m\n",
      "\u001b[32m[I 2022-12-18 10:22:21,640]\u001b[0m Trial 41 finished with value: 0.8114478114478114 and parameters: {'n_estimators': 899, 'criterion': 'entropy', 'max_depth': 69}. Best is trial 0 with value: 0.8114478114478114.\u001b[0m\n",
      "\u001b[32m[I 2022-12-18 10:22:35,918]\u001b[0m Trial 42 finished with value: 0.8114478114478114 and parameters: {'n_estimators': 836, 'criterion': 'entropy', 'max_depth': 80}. Best is trial 0 with value: 0.8114478114478114.\u001b[0m\n",
      "\u001b[32m[I 2022-12-18 10:22:53,133]\u001b[0m Trial 43 finished with value: 0.8114478114478114 and parameters: {'n_estimators': 995, 'criterion': 'entropy', 'max_depth': 71}. Best is trial 0 with value: 0.8114478114478114.\u001b[0m\n",
      "\u001b[32m[I 2022-12-18 10:22:54,590]\u001b[0m Trial 44 finished with value: 0.8114478114478114 and parameters: {'n_estimators': 79, 'criterion': 'entropy', 'max_depth': 92}. Best is trial 0 with value: 0.8114478114478114.\u001b[0m\n",
      "\u001b[32m[I 2022-12-18 10:22:56,444]\u001b[0m Trial 45 finished with value: 0.8114478114478114 and parameters: {'n_estimators': 103, 'criterion': 'entropy', 'max_depth': 95}. Best is trial 0 with value: 0.8114478114478114.\u001b[0m\n",
      "\u001b[32m[I 2022-12-18 10:23:07,610]\u001b[0m Trial 46 finished with value: 0.8114478114478114 and parameters: {'n_estimators': 643, 'criterion': 'entropy', 'max_depth': 76}. Best is trial 0 with value: 0.8114478114478114.\u001b[0m\n",
      "\u001b[32m[I 2022-12-18 10:23:19,420]\u001b[0m Trial 47 finished with value: 0.8114478114478114 and parameters: {'n_estimators': 689, 'criterion': 'entropy', 'max_depth': 96}. Best is trial 0 with value: 0.8114478114478114.\u001b[0m\n",
      "\u001b[32m[I 2022-12-18 10:23:27,493]\u001b[0m Trial 48 finished with value: 0.8114478114478114 and parameters: {'n_estimators': 467, 'criterion': 'entropy', 'max_depth': 85}. Best is trial 0 with value: 0.8114478114478114.\u001b[0m\n",
      "\u001b[32m[I 2022-12-18 10:23:42,126]\u001b[0m Trial 49 finished with value: 0.8114478114478114 and parameters: {'n_estimators': 850, 'criterion': 'entropy', 'max_depth': 69}. Best is trial 0 with value: 0.8114478114478114.\u001b[0m\n",
      "\u001b[32m[I 2022-12-18 10:23:44,677]\u001b[0m Trial 50 finished with value: 0.8114478114478114 and parameters: {'n_estimators': 145, 'criterion': 'gini', 'max_depth': 88}. Best is trial 0 with value: 0.8114478114478114.\u001b[0m\n",
      "\u001b[32m[I 2022-12-18 10:23:54,817]\u001b[0m Trial 51 finished with value: 0.8114478114478114 and parameters: {'n_estimators': 586, 'criterion': 'entropy', 'max_depth': 99}. Best is trial 0 with value: 0.8114478114478114.\u001b[0m\n",
      "\u001b[32m[I 2022-12-18 10:24:03,088]\u001b[0m Trial 52 finished with value: 0.8114478114478114 and parameters: {'n_estimators': 471, 'criterion': 'entropy', 'max_depth': 93}. Best is trial 0 with value: 0.8114478114478114.\u001b[0m\n",
      "\u001b[32m[I 2022-12-18 10:24:11,577]\u001b[0m Trial 53 finished with value: 0.8114478114478114 and parameters: {'n_estimators': 491, 'criterion': 'entropy', 'max_depth': 89}. Best is trial 0 with value: 0.8114478114478114.\u001b[0m\n",
      "\u001b[32m[I 2022-12-18 10:24:24,454]\u001b[0m Trial 54 finished with value: 0.8114478114478114 and parameters: {'n_estimators': 732, 'criterion': 'entropy', 'max_depth': 84}. Best is trial 0 with value: 0.8114478114478114.\u001b[0m\n",
      "\u001b[32m[I 2022-12-18 10:24:35,725]\u001b[0m Trial 55 finished with value: 0.8114478114478114 and parameters: {'n_estimators': 652, 'criterion': 'entropy', 'max_depth': 83}. Best is trial 0 with value: 0.8114478114478114.\u001b[0m\n",
      "\u001b[32m[I 2022-12-18 10:24:46,015]\u001b[0m Trial 56 finished with value: 0.8114478114478114 and parameters: {'n_estimators': 595, 'criterion': 'entropy', 'max_depth': 88}. Best is trial 0 with value: 0.8114478114478114.\u001b[0m\n",
      "\u001b[32m[I 2022-12-18 10:24:55,723]\u001b[0m Trial 57 finished with value: 0.8114478114478114 and parameters: {'n_estimators': 556, 'criterion': 'entropy', 'max_depth': 91}. Best is trial 0 with value: 0.8114478114478114.\u001b[0m\n",
      "\u001b[32m[I 2022-12-18 10:25:02,485]\u001b[0m Trial 58 finished with value: 0.8114478114478114 and parameters: {'n_estimators': 392, 'criterion': 'gini', 'max_depth': 55}. Best is trial 0 with value: 0.8114478114478114.\u001b[0m\n",
      "\u001b[32m[I 2022-12-18 10:25:14,433]\u001b[0m Trial 59 finished with value: 0.8114478114478114 and parameters: {'n_estimators': 681, 'criterion': 'gini', 'max_depth': 51}. Best is trial 0 with value: 0.8114478114478114.\u001b[0m\n",
      "\u001b[32m[I 2022-12-18 10:25:20,354]\u001b[0m Trial 60 finished with value: 0.8114478114478114 and parameters: {'n_estimators': 338, 'criterion': 'gini', 'max_depth': 65}. Best is trial 0 with value: 0.8114478114478114.\u001b[0m\n",
      "\u001b[32m[I 2022-12-18 10:25:24,972]\u001b[0m Trial 61 finished with value: 0.8114478114478114 and parameters: {'n_estimators': 264, 'criterion': 'gini', 'max_depth': 47}. Best is trial 0 with value: 0.8114478114478114.\u001b[0m\n",
      "\u001b[32m[I 2022-12-18 10:25:27,951]\u001b[0m Trial 62 finished with value: 0.8114478114478114 and parameters: {'n_estimators': 169, 'criterion': 'gini', 'max_depth': 35}. Best is trial 0 with value: 0.8114478114478114.\u001b[0m\n",
      "\u001b[32m[I 2022-12-18 10:25:34,080]\u001b[0m Trial 63 finished with value: 0.8114478114478114 and parameters: {'n_estimators': 358, 'criterion': 'gini', 'max_depth': 47}. Best is trial 0 with value: 0.8114478114478114.\u001b[0m\n",
      "\u001b[32m[I 2022-12-18 10:25:37,926]\u001b[0m Trial 64 finished with value: 0.8114478114478114 and parameters: {'n_estimators': 221, 'criterion': 'entropy', 'max_depth': 53}. Best is trial 0 with value: 0.8114478114478114.\u001b[0m\n",
      "\u001b[32m[I 2022-12-18 10:25:42,784]\u001b[0m Trial 65 finished with value: 0.8114478114478114 and parameters: {'n_estimators': 278, 'criterion': 'entropy', 'max_depth': 43}. Best is trial 0 with value: 0.8114478114478114.\u001b[0m\n",
      "\u001b[32m[I 2022-12-18 10:25:55,683]\u001b[0m Trial 66 finished with value: 0.8114478114478114 and parameters: {'n_estimators': 755, 'criterion': 'gini', 'max_depth': 58}. Best is trial 0 with value: 0.8114478114478114.\u001b[0m\n",
      "\u001b[32m[I 2022-12-18 10:26:09,740]\u001b[0m Trial 67 finished with value: 0.8114478114478114 and parameters: {'n_estimators': 812, 'criterion': 'entropy', 'max_depth': 28}. Best is trial 0 with value: 0.8114478114478114.\u001b[0m\n"
     ]
    }
   ],
   "source": [
    "study = optuna.create_study(direction=\"maximize\")\n",
    "study.optimize(objective, n_trials=100)\n",
    "\n",
    "# optunaの結果を取得\n",
    "print(study.best_params)\n",
    "print(study.best_value)\n",
    "model_params = study.best_params"
   ]
  },
  {
   "cell_type": "code",
   "execution_count": null,
   "metadata": {},
   "outputs": [],
   "source": [
    "# 別でで最適化したハイパーパラメタ\n",
    "model_params = {\n",
    "    'n_estimators': 753, \n",
    "    'criterion': 'entropy', \n",
    "    'max_depth': 8,\n",
    "    \"random_state\": SEED\n",
    "}\n",
    "model_cls = RandomForestClassifier\n",
    "\n",
    "eval_func = lambda true_y, pred_y: accuracy_score(true_y, pred_y)\n",
    "metrics, pred_y = FFS.validation(\n",
    "    df_train, selected_features, target, model_cls, model_params, eval_func, df_test=df_test, is_pred=True\n",
    ")\n",
    "print(f'accuracy score: {metrics}')"
   ]
  },
  {
   "cell_type": "code",
   "execution_count": 12,
   "metadata": {},
   "outputs": [],
   "source": [
    "pred_y = pred_y.astype(np.int64)\n",
    "\n",
    "output = pd.DataFrame({\"PassengerId\": df_test[\"PassengerId\"], \"Survived\": pred_y})\n",
    "output.to_csv('result.csv', header=True, index=False)"
   ]
  },
  {
   "cell_type": "code",
   "execution_count": 13,
   "metadata": {},
   "outputs": [
    {
     "data": {
      "text/html": [
       "<div>\n",
       "<style scoped>\n",
       "    .dataframe tbody tr th:only-of-type {\n",
       "        vertical-align: middle;\n",
       "    }\n",
       "\n",
       "    .dataframe tbody tr th {\n",
       "        vertical-align: top;\n",
       "    }\n",
       "\n",
       "    .dataframe thead th {\n",
       "        text-align: right;\n",
       "    }\n",
       "</style>\n",
       "<table border=\"1\" class=\"dataframe\">\n",
       "  <thead>\n",
       "    <tr style=\"text-align: right;\">\n",
       "      <th></th>\n",
       "      <th>PassengerId</th>\n",
       "      <th>Survived</th>\n",
       "    </tr>\n",
       "  </thead>\n",
       "  <tbody>\n",
       "    <tr>\n",
       "      <td>0</td>\n",
       "      <td>892</td>\n",
       "      <td>0</td>\n",
       "    </tr>\n",
       "    <tr>\n",
       "      <td>1</td>\n",
       "      <td>893</td>\n",
       "      <td>0</td>\n",
       "    </tr>\n",
       "    <tr>\n",
       "      <td>2</td>\n",
       "      <td>894</td>\n",
       "      <td>0</td>\n",
       "    </tr>\n",
       "    <tr>\n",
       "      <td>3</td>\n",
       "      <td>895</td>\n",
       "      <td>0</td>\n",
       "    </tr>\n",
       "    <tr>\n",
       "      <td>4</td>\n",
       "      <td>896</td>\n",
       "      <td>0</td>\n",
       "    </tr>\n",
       "    <tr>\n",
       "      <td>...</td>\n",
       "      <td>...</td>\n",
       "      <td>...</td>\n",
       "    </tr>\n",
       "    <tr>\n",
       "      <td>413</td>\n",
       "      <td>1305</td>\n",
       "      <td>0</td>\n",
       "    </tr>\n",
       "    <tr>\n",
       "      <td>414</td>\n",
       "      <td>1306</td>\n",
       "      <td>1</td>\n",
       "    </tr>\n",
       "    <tr>\n",
       "      <td>415</td>\n",
       "      <td>1307</td>\n",
       "      <td>0</td>\n",
       "    </tr>\n",
       "    <tr>\n",
       "      <td>416</td>\n",
       "      <td>1308</td>\n",
       "      <td>0</td>\n",
       "    </tr>\n",
       "    <tr>\n",
       "      <td>417</td>\n",
       "      <td>1309</td>\n",
       "      <td>1</td>\n",
       "    </tr>\n",
       "  </tbody>\n",
       "</table>\n",
       "<p>418 rows × 2 columns</p>\n",
       "</div>"
      ],
      "text/plain": [
       "     PassengerId  Survived\n",
       "0            892         0\n",
       "1            893         0\n",
       "2            894         0\n",
       "3            895         0\n",
       "4            896         0\n",
       "..           ...       ...\n",
       "413         1305         0\n",
       "414         1306         1\n",
       "415         1307         0\n",
       "416         1308         0\n",
       "417         1309         1\n",
       "\n",
       "[418 rows x 2 columns]"
      ]
     },
     "execution_count": 13,
     "metadata": {},
     "output_type": "execute_result"
    }
   ],
   "source": [
    "output"
   ]
  },
  {
   "cell_type": "code",
   "execution_count": null,
   "metadata": {},
   "outputs": [],
   "source": [
    "#　特徴量の説明度合いを調べる\n",
    "\n",
    "from statsmodels.stats.outliers_influence import OLSInfluence, variance_inflation_factor\n",
    "import statsmodels.api as sm\n",
    "\n",
    "def print_statsmodels(df, columns, target):\n",
    "    # 重回帰分析\n",
    "    X = sm.add_constant(df[columns])\n",
    "    y = df[target]\n",
    "    model = sm.OLS(y, X)\n",
    "    fitted = model.fit()\n",
    "    \n",
    "    print('summary = \\n', fitted.summary())\n",
    "\n",
    "print_statsmodels(df_train, selected_features, target)"
   ]
  }
 ],
 "metadata": {
  "kernelspec": {
   "display_name": "Python 3",
   "language": "python",
   "name": "python3"
  },
  "language_info": {
   "codemirror_mode": {
    "name": "ipython",
    "version": 3
   },
   "file_extension": ".py",
   "mimetype": "text/x-python",
   "name": "python",
   "nbconvert_exporter": "python",
   "pygments_lexer": "ipython3",
   "version": "3.7.4"
  }
 },
 "nbformat": 4,
 "nbformat_minor": 4
}
