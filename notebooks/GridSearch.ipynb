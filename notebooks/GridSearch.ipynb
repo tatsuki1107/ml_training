{
 "cells": [
  {
   "cell_type": "markdown",
   "metadata": {},
   "source": [
    "## GridSearchでチューニング練習"
   ]
  },
  {
   "cell_type": "code",
   "execution_count": 1,
   "metadata": {},
   "outputs": [],
   "source": [
    "from tqdm import tqdm\n",
    "from sklearn.datasets import load_breast_cancer\n",
    "from sklearn.ensemble import RandomForestClassifier\n",
    "from sklearn.model_selection import GridSearchCV, train_test_split\n",
    "from sklearn.metrics import f1_score"
   ]
  },
  {
   "cell_type": "code",
   "execution_count": 2,
   "metadata": {},
   "outputs": [],
   "source": [
    "cancer_data = load_breast_cancer()\n",
    "train_X, test_X, train_y, test_y = train_test_split(\n",
    "    cancer_data.data, cancer_data.target, random_state=0\n",
    ")"
   ]
  },
  {
   "cell_type": "code",
   "execution_count": 5,
   "metadata": {},
   "outputs": [],
   "source": [
    "max_score = 0\n",
    "SearchMethod = 0\n",
    "RFC_grid = {RandomForestClassifier(): {\"n_estimators\": [i for i in range(1,21)],\n",
    "                                      \"criterion\": [\"gini\", \"entropy\"],\n",
    "                                      \"max_depth\": [i for i in range(1,5)],\n",
    "                                      \"random_state\": [i for i in range(1,5)]}}"
   ]
  },
  {
   "cell_type": "code",
   "execution_count": 6,
   "metadata": {},
   "outputs": [
    {
     "name": "stderr",
     "output_type": "stream",
     "text": [
      "  0%|          | 0/1 [00:00<?, ?it/s]/opt/anaconda3/lib/python3.7/site-packages/sklearn/model_selection/_split.py:1978: FutureWarning: The default value of cv will change from 3 to 5 in version 0.22. Specify it explicitly to silence this warning.\n",
      "  warnings.warn(CV_WARNING, FutureWarning)\n",
      "100%|██████████| 1/1 [02:38<00:00, 158.76s/it]"
     ]
    },
    {
     "name": "stdout",
     "output_type": "stream",
     "text": [
      "ベストスコア: 0.958041958041958\n",
      "モデル: RandomForestClassifier\n",
      "パラメータ: {'criterion': 'gini', 'max_depth': 4, 'n_estimators': 7, 'random_state': 2}\n",
      "CPU times: user 2min 38s, sys: 246 ms, total: 2min 38s\n",
      "Wall time: 2min 38s\n"
     ]
    },
    {
     "name": "stderr",
     "output_type": "stream",
     "text": [
      "\n"
     ]
    }
   ],
   "source": [
    "%%time\n",
    "for model, param in tqdm(RFC_grid.items()):\n",
    "    clf = GridSearchCV(model, param)\n",
    "    clf.fit(train_X, train_y)\n",
    "    pred_y = clf.predict(test_X)\n",
    "    score = f1_score(test_y, pred_y, average=\"micro\")\n",
    "    \n",
    "    if max_score < score:\n",
    "        max_score = score\n",
    "        best_param = clf.best_params_\n",
    "        best_model = model.__class__.__name__\n",
    "\n",
    "print(f\"ベストスコア: {max_score}\")\n",
    "print(f\"モデル: {best_model}\")\n",
    "print(f'パラメータ: {best_param}')"
   ]
  },
  {
   "cell_type": "code",
   "execution_count": 9,
   "metadata": {},
   "outputs": [
    {
     "name": "stdout",
     "output_type": "stream",
     "text": [
      "デフォルトスコア: 0.951048951048951\n"
     ]
    },
    {
     "name": "stderr",
     "output_type": "stream",
     "text": [
      "/opt/anaconda3/lib/python3.7/site-packages/sklearn/ensemble/forest.py:245: FutureWarning: The default value of n_estimators will change from 10 in version 0.20 to 100 in 0.22.\n",
      "  \"10 in version 0.20 to 100 in 0.22.\", FutureWarning)\n"
     ]
    }
   ],
   "source": [
    "# パラメータチューニングをしない場合\n",
    "model = RandomForestClassifier()\n",
    "model.fit(train_X, train_y)\n",
    "score = model.score(test_X, test_y)\n",
    "print(f\"デフォルトスコア: {score}\")"
   ]
  },
  {
   "cell_type": "code",
   "execution_count": 10,
   "metadata": {},
   "outputs": [
    {
     "name": "stdout",
     "output_type": "stream",
     "text": [
      "summary = \n",
      "                             OLS Regression Results                            \n",
      "==============================================================================\n",
      "Dep. Variable:                      y   R-squared:                       0.774\n",
      "Model:                            OLS   Adj. R-squared:                  0.762\n",
      "Method:                 Least Squares   F-statistic:                     61.53\n",
      "Date:                Mon, 19 Dec 2022   Prob (F-statistic):          6.05e-153\n",
      "Time:                        05:49:15   Log-Likelihood:                 29.650\n",
      "No. Observations:                 569   AIC:                             2.699\n",
      "Df Residuals:                     538   BIC:                             137.4\n",
      "Df Model:                          30                                         \n",
      "Covariance Type:            nonrobust                                         \n",
      "==============================================================================\n",
      "                 coef    std err          t      P>|t|      [0.025      0.975]\n",
      "------------------------------------------------------------------------------\n",
      "const          3.0218      0.428      7.060      0.000       2.181       3.863\n",
      "x1             0.2178      0.174      1.255      0.210      -0.123       0.559\n",
      "x2            -0.0045      0.008     -0.572      0.567      -0.020       0.011\n",
      "x3            -0.0237      0.025     -0.946      0.345      -0.073       0.026\n",
      "x4            -0.0003      0.001     -0.605      0.545      -0.001       0.001\n",
      "x5            -0.0847      2.017     -0.042      0.967      -4.047       3.878\n",
      "x6             4.2220      1.334      3.166      0.002       1.602       6.842\n",
      "x7            -1.3980      1.046     -1.337      0.182      -3.452       0.656\n",
      "x8            -2.1418      1.979     -1.082      0.280      -6.030       1.746\n",
      "x9            -0.1027      0.743     -0.138      0.890      -1.562       1.356\n",
      "x10           -0.0333      5.572     -0.006      0.995     -10.979      10.913\n",
      "x11           -0.4350      0.310     -1.401      0.162      -1.045       0.175\n",
      "x12            0.0068      0.037      0.183      0.855      -0.066       0.079\n",
      "x13            0.0225      0.041      0.548      0.584      -0.058       0.103\n",
      "x14            0.0009      0.001      0.660      0.509      -0.002       0.004\n",
      "x15          -15.8543      6.625     -2.393      0.017     -28.868      -2.841\n",
      "x16           -0.0649      2.169     -0.030      0.976      -4.327       4.197\n",
      "x17            3.5655      1.301      2.741      0.006       1.010       6.121\n",
      "x18          -10.5680      5.452     -1.938      0.053     -21.278       0.142\n",
      "x19           -1.6973      2.728     -0.622      0.534      -7.055       3.661\n",
      "x20            7.1464     11.676      0.612      0.541     -15.791      30.083\n",
      "x21           -0.1952      0.058     -3.367      0.001      -0.309      -0.081\n",
      "x22           -0.0072      0.007     -1.030      0.303      -0.021       0.006\n",
      "x23            0.0024      0.006      0.410      0.682      -0.009       0.014\n",
      "x24            0.0010      0.000      3.163      0.002       0.000       0.002\n",
      "x25           -0.5429      1.435     -0.378      0.705      -3.361       2.275\n",
      "x26           -0.0672      0.383     -0.175      0.861      -0.820       0.685\n",
      "x27           -0.3812      0.269     -1.419      0.156      -0.909       0.146\n",
      "x28           -0.4643      0.914     -0.508      0.612      -2.260       1.332\n",
      "x29           -0.5568      0.494     -1.126      0.260      -1.528       0.414\n",
      "x30           -4.3035      2.383     -1.806      0.072      -8.985       0.378\n",
      "==============================================================================\n",
      "Omnibus:                       32.654   Durbin-Watson:                   1.794\n",
      "Prob(Omnibus):                  0.000   Jarque-Bera (JB):               36.690\n",
      "Skew:                          -0.603   Prob(JB):                     1.08e-08\n",
      "Kurtosis:                       3.302   Cond. No.                     1.54e+06\n",
      "==============================================================================\n",
      "\n",
      "Warnings:\n",
      "[1] Standard Errors assume that the covariance matrix of the errors is correctly specified.\n",
      "[2] The condition number is large, 1.54e+06. This might indicate that there are\n",
      "strong multicollinearity or other numerical problems.\n"
     ]
    }
   ],
   "source": [
    "# 説明変数の分析\n",
    "import statsmodels.api as sm\n",
    "\n",
    "# 重回帰分析\n",
    "X = sm.add_constant(cancer_data.data)\n",
    "y = cancer_data.target\n",
    "model = sm.OLS(y, X)\n",
    "fitted = model.fit()\n",
    "    \n",
    "print('summary = \\n', fitted.summary())\n"
   ]
  },
  {
   "cell_type": "code",
   "execution_count": null,
   "metadata": {},
   "outputs": [],
   "source": []
  }
 ],
 "metadata": {
  "kernelspec": {
   "display_name": "Python 3",
   "language": "python",
   "name": "python3"
  },
  "language_info": {
   "codemirror_mode": {
    "name": "ipython",
    "version": 3
   },
   "file_extension": ".py",
   "mimetype": "text/x-python",
   "name": "python",
   "nbconvert_exporter": "python",
   "pygments_lexer": "ipython3",
   "version": "3.7.4"
  }
 },
 "nbformat": 4,
 "nbformat_minor": 4
}
